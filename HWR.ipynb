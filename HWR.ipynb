{
  "nbformat": 4,
  "nbformat_minor": 0,
  "metadata": {
    "colab": {
      "name": "HWR.ipynb",
      "version": "0.3.2",
      "provenance": [],
      "collapsed_sections": [
        "wEJ1LSNiX_rK",
        "9jUIj7OluSTt"
      ],
      "toc_visible": true,
      "include_colab_link": true
    },
    "language_info": {
      "codemirror_mode": {
        "name": "ipython",
        "version": 3
      },
      "file_extension": ".py",
      "mimetype": "text/x-python",
      "name": "python",
      "nbconvert_exporter": "python",
      "pygments_lexer": "ipython3",
      "version": "3.7.3"
    },
    "kernelspec": {
      "name": "python3",
      "display_name": "Python 3"
    },
    "accelerator": "GPU"
  },
  "cells": [
    {
      "cell_type": "markdown",
      "metadata": {
        "id": "view-in-github",
        "colab_type": "text"
      },
      "source": [
        "<a href=\"https://colab.research.google.com/github/ptcar2009/data/blob/master/HWR.ipynb\" target=\"_parent\"><img src=\"https://colab.research.google.com/assets/colab-badge.svg\" alt=\"Open In Colab\"/></a>"
      ]
    },
    {
      "cell_type": "markdown",
      "metadata": {
        "id": "qv7bZ9hSuSTH",
        "colab_type": "text"
      },
      "source": [
        "# Handwritten text recognition - Final Assignment \n",
        "### Pedro Tavares de Carvalho\n"
      ]
    },
    {
      "cell_type": "markdown",
      "metadata": {
        "id": "YxRbd55FXxuY",
        "colab_type": "text"
      },
      "source": [
        "## Abstract\n",
        "This notebook implements a Neural Network to recognize handwritten text. The network is composed of a Convolutional set, a LSTM step and a CTC loss step, which was based of several other similar papers, which will be referenced in the end of the Notebook.\n",
        "\n",
        "\n",
        "This notebook can also be found on my github page, by following [this link](https://github.com/ptcar2009/trabalho_ml). You can run it in Google Collaboratory by crating a new notebook and importing it from the github page mentioned above."
      ]
    },
    {
      "cell_type": "markdown",
      "metadata": {
        "id": "wEJ1LSNiX_rK",
        "colab_type": "text"
      },
      "source": [
        "\n",
        "## Module installation\n",
        "It uses the `pytorch` module for the building of the network, and the `cv2` for image input and processing. \n",
        "\n",
        "The packages used for the model are as stated below."
      ]
    },
    {
      "cell_type": "code",
      "metadata": {
        "id": "voaRnOkIuSTc",
        "colab_type": "code",
        "colab": {}
      },
      "source": [
        "from PIL import Image\n",
        "from matplotlib import cm\n",
        "import torch\n",
        "import torchvision.transforms as transforms\n",
        "import torch.nn as nn\n",
        "import numpy as np\n",
        "import matplotlib.pyplot as plt \n",
        "import os\n",
        "from torch.utils.data import Dataset\n",
        "import cv2"
      ],
      "execution_count": 0,
      "outputs": []
    },
    {
      "cell_type": "markdown",
      "metadata": {
        "id": "9jUIj7OluSTt",
        "colab_type": "text"
      },
      "source": [
        "## Data\n",
        "The training data for this network is the IAM Handwriting Dataset, a compilation of several documents by many writers which is available for download at [this website](http://www.fki.inf.unibe.ch/databases/iam-handwriting-database). The whole file structure is like this:\n",
        "\n",
        "    -> Author\n",
        "        -> Form\n",
        "            -> Line\n",
        "                -> Word\n",
        "                \n",
        "The `PyDrive` API was used to load the data from a Google Drive repository, if you are running the notebook from Colab."
      ]
    },
    {
      "cell_type": "code",
      "metadata": {
        "id": "PqI5ECpWubSg",
        "colab_type": "code",
        "colab": {
          "base_uri": "https://localhost:8080/",
          "height": 52
        },
        "outputId": "fb021e01-cc10-4f3e-fbce-dbb9d0aa5f1d"
      },
      "source": [
        "!pip install -U -q PyDrive\n",
        "from pydrive.auth import GoogleAuth\n",
        "from pydrive.drive import GoogleDrive\n",
        "from google.colab import auth\n",
        "from oauth2client.client import GoogleCredentials\n",
        "\n",
        "# Authenticate and create the PyDrive client.\n",
        "auth.authenticate_user()\n",
        "gauth = GoogleAuth()\n",
        "gauth.credentials = GoogleCredentials.get_application_default()\n",
        "drive = GoogleDrive(gauth)"
      ],
      "execution_count": 4,
      "outputs": [
        {
          "output_type": "stream",
          "text": [
            "\u001b[?25l\r\u001b[K     |▎                               | 10kB 21.6MB/s eta 0:00:01\r\u001b[K     |▋                               | 20kB 2.1MB/s eta 0:00:01\r\u001b[K     |█                               | 30kB 3.1MB/s eta 0:00:01\r\u001b[K     |█▎                              | 40kB 2.0MB/s eta 0:00:01\r\u001b[K     |█▋                              | 51kB 2.5MB/s eta 0:00:01\r\u001b[K     |██                              | 61kB 3.0MB/s eta 0:00:01\r\u001b[K     |██▎                             | 71kB 3.4MB/s eta 0:00:01\r\u001b[K     |██▋                             | 81kB 3.9MB/s eta 0:00:01\r\u001b[K     |███                             | 92kB 4.3MB/s eta 0:00:01\r\u001b[K     |███▎                            | 102kB 3.3MB/s eta 0:00:01\r\u001b[K     |███▋                            | 112kB 3.3MB/s eta 0:00:01\r\u001b[K     |████                            | 122kB 3.3MB/s eta 0:00:01\r\u001b[K     |████▎                           | 133kB 3.3MB/s eta 0:00:01\r\u001b[K     |████▋                           | 143kB 3.3MB/s eta 0:00:01\r\u001b[K     |█████                           | 153kB 3.3MB/s eta 0:00:01\r\u001b[K     |█████▎                          | 163kB 3.3MB/s eta 0:00:01\r\u001b[K     |█████▋                          | 174kB 3.3MB/s eta 0:00:01\r\u001b[K     |██████                          | 184kB 3.3MB/s eta 0:00:01\r\u001b[K     |██████▎                         | 194kB 3.3MB/s eta 0:00:01\r\u001b[K     |██████▋                         | 204kB 3.3MB/s eta 0:00:01\r\u001b[K     |███████                         | 215kB 3.3MB/s eta 0:00:01\r\u001b[K     |███████▎                        | 225kB 3.3MB/s eta 0:00:01\r\u001b[K     |███████▋                        | 235kB 3.3MB/s eta 0:00:01\r\u001b[K     |████████                        | 245kB 3.3MB/s eta 0:00:01\r\u001b[K     |████████▎                       | 256kB 3.3MB/s eta 0:00:01\r\u001b[K     |████████▋                       | 266kB 3.3MB/s eta 0:00:01\r\u001b[K     |█████████                       | 276kB 3.3MB/s eta 0:00:01\r\u001b[K     |█████████▎                      | 286kB 3.3MB/s eta 0:00:01\r\u001b[K     |█████████▋                      | 296kB 3.3MB/s eta 0:00:01\r\u001b[K     |██████████                      | 307kB 3.3MB/s eta 0:00:01\r\u001b[K     |██████████▎                     | 317kB 3.3MB/s eta 0:00:01\r\u001b[K     |██████████▋                     | 327kB 3.3MB/s eta 0:00:01\r\u001b[K     |███████████                     | 337kB 3.3MB/s eta 0:00:01\r\u001b[K     |███████████▎                    | 348kB 3.3MB/s eta 0:00:01\r\u001b[K     |███████████▋                    | 358kB 3.3MB/s eta 0:00:01\r\u001b[K     |████████████                    | 368kB 3.3MB/s eta 0:00:01\r\u001b[K     |████████████▎                   | 378kB 3.3MB/s eta 0:00:01\r\u001b[K     |████████████▋                   | 389kB 3.3MB/s eta 0:00:01\r\u001b[K     |█████████████                   | 399kB 3.3MB/s eta 0:00:01\r\u001b[K     |█████████████▎                  | 409kB 3.3MB/s eta 0:00:01\r\u001b[K     |█████████████▋                  | 419kB 3.3MB/s eta 0:00:01\r\u001b[K     |██████████████                  | 430kB 3.3MB/s eta 0:00:01\r\u001b[K     |██████████████▎                 | 440kB 3.3MB/s eta 0:00:01\r\u001b[K     |██████████████▋                 | 450kB 3.3MB/s eta 0:00:01\r\u001b[K     |███████████████                 | 460kB 3.3MB/s eta 0:00:01\r\u001b[K     |███████████████▎                | 471kB 3.3MB/s eta 0:00:01\r\u001b[K     |███████████████▋                | 481kB 3.3MB/s eta 0:00:01\r\u001b[K     |████████████████                | 491kB 3.3MB/s eta 0:00:01\r\u001b[K     |████████████████▎               | 501kB 3.3MB/s eta 0:00:01\r\u001b[K     |████████████████▋               | 512kB 3.3MB/s eta 0:00:01\r\u001b[K     |█████████████████               | 522kB 3.3MB/s eta 0:00:01\r\u001b[K     |█████████████████▎              | 532kB 3.3MB/s eta 0:00:01\r\u001b[K     |█████████████████▋              | 542kB 3.3MB/s eta 0:00:01\r\u001b[K     |██████████████████              | 552kB 3.3MB/s eta 0:00:01\r\u001b[K     |██████████████████▎             | 563kB 3.3MB/s eta 0:00:01\r\u001b[K     |██████████████████▋             | 573kB 3.3MB/s eta 0:00:01\r\u001b[K     |███████████████████             | 583kB 3.3MB/s eta 0:00:01\r\u001b[K     |███████████████████▎            | 593kB 3.3MB/s eta 0:00:01\r\u001b[K     |███████████████████▋            | 604kB 3.3MB/s eta 0:00:01\r\u001b[K     |████████████████████            | 614kB 3.3MB/s eta 0:00:01\r\u001b[K     |████████████████████▎           | 624kB 3.3MB/s eta 0:00:01\r\u001b[K     |████████████████████▋           | 634kB 3.3MB/s eta 0:00:01\r\u001b[K     |█████████████████████           | 645kB 3.3MB/s eta 0:00:01\r\u001b[K     |█████████████████████▎          | 655kB 3.3MB/s eta 0:00:01\r\u001b[K     |█████████████████████▋          | 665kB 3.3MB/s eta 0:00:01\r\u001b[K     |██████████████████████          | 675kB 3.3MB/s eta 0:00:01\r\u001b[K     |██████████████████████▎         | 686kB 3.3MB/s eta 0:00:01\r\u001b[K     |██████████████████████▋         | 696kB 3.3MB/s eta 0:00:01\r\u001b[K     |███████████████████████         | 706kB 3.3MB/s eta 0:00:01\r\u001b[K     |███████████████████████▎        | 716kB 3.3MB/s eta 0:00:01\r\u001b[K     |███████████████████████▋        | 727kB 3.3MB/s eta 0:00:01\r\u001b[K     |████████████████████████        | 737kB 3.3MB/s eta 0:00:01\r\u001b[K     |████████████████████████▎       | 747kB 3.3MB/s eta 0:00:01\r\u001b[K     |████████████████████████▋       | 757kB 3.3MB/s eta 0:00:01\r\u001b[K     |████████████████████████▉       | 768kB 3.3MB/s eta 0:00:01\r\u001b[K     |█████████████████████████▏      | 778kB 3.3MB/s eta 0:00:01\r\u001b[K     |█████████████████████████▌      | 788kB 3.3MB/s eta 0:00:01\r\u001b[K     |█████████████████████████▉      | 798kB 3.3MB/s eta 0:00:01\r\u001b[K     |██████████████████████████▏     | 808kB 3.3MB/s eta 0:00:01\r\u001b[K     |██████████████████████████▌     | 819kB 3.3MB/s eta 0:00:01\r\u001b[K     |██████████████████████████▉     | 829kB 3.3MB/s eta 0:00:01\r\u001b[K     |███████████████████████████▏    | 839kB 3.3MB/s eta 0:00:01\r\u001b[K     |███████████████████████████▌    | 849kB 3.3MB/s eta 0:00:01\r\u001b[K     |███████████████████████████▉    | 860kB 3.3MB/s eta 0:00:01\r\u001b[K     |████████████████████████████▏   | 870kB 3.3MB/s eta 0:00:01\r\u001b[K     |████████████████████████████▌   | 880kB 3.3MB/s eta 0:00:01\r\u001b[K     |████████████████████████████▉   | 890kB 3.3MB/s eta 0:00:01\r\u001b[K     |█████████████████████████████▏  | 901kB 3.3MB/s eta 0:00:01\r\u001b[K     |█████████████████████████████▌  | 911kB 3.3MB/s eta 0:00:01\r\u001b[K     |█████████████████████████████▉  | 921kB 3.3MB/s eta 0:00:01\r\u001b[K     |██████████████████████████████▏ | 931kB 3.3MB/s eta 0:00:01\r\u001b[K     |██████████████████████████████▌ | 942kB 3.3MB/s eta 0:00:01\r\u001b[K     |██████████████████████████████▉ | 952kB 3.3MB/s eta 0:00:01\r\u001b[K     |███████████████████████████████▏| 962kB 3.3MB/s eta 0:00:01\r\u001b[K     |███████████████████████████████▌| 972kB 3.3MB/s eta 0:00:01\r\u001b[K     |███████████████████████████████▉| 983kB 3.3MB/s eta 0:00:01\r\u001b[K     |████████████████████████████████| 993kB 3.3MB/s \n",
            "\u001b[?25h  Building wheel for PyDrive (setup.py) ... \u001b[?25l\u001b[?25hdone\n"
          ],
          "name": "stdout"
        }
      ]
    },
    {
      "cell_type": "code",
      "metadata": {
        "id": "F1vVNzfDutGS",
        "colab_type": "code",
        "colab": {}
      },
      "source": [
        "id = \"https://drive.google.com/open?id=1PHw-SRuU0B3XBJQ1jEciTz4EqyPNy9rb\".split('=')[1]\n",
        "downloaded = drive.CreateFile({'id':id}) \n",
        "downloaded.GetContentFile('words.tar.gz')\n",
        "id = \"https://drive.google.com/open?id=1_7z4T6DiivlNMsQwYmOoz_AaZrseAKmw\".split('=')[1]\n",
        "downloaded = drive.CreateFile({'id':id}) \n",
        "!mkdir data\n",
        "!mkdir data/words\n",
        "!mkdir data/ascii\n",
        "!mkdir data/saved_data\n",
        "downloaded.GetContentFile('data/ascii/words.txt')\n",
        "!tar xzf words.tar.gz -C data/words"
      ],
      "execution_count": 0,
      "outputs": []
    },
    {
      "cell_type": "markdown",
      "metadata": {
        "id": "ZhXOfh22CH6N",
        "colab_type": "text"
      },
      "source": [
        "The images in the dataset have various formats, variyng in width and height. The maximum for both is `(128, 32)`, respectively. As a refularization for the input on the network, the images were ligned right and scaled, with no distortion, to fit on a `(128,32)` canvas. Whenever there is leftover space, it's filled with white padding to have a consistent size."
      ]
    },
    {
      "cell_type": "code",
      "metadata": {
        "id": "HS3un3pLuSTv",
        "colab_type": "code",
        "colab": {}
      },
      "source": [
        "input_size = (128, 32)"
      ],
      "execution_count": 0,
      "outputs": []
    },
    {
      "cell_type": "code",
      "metadata": {
        "id": "siqKocVPuST3",
        "colab_type": "code",
        "colab": {}
      },
      "source": [
        "def formatImage(image, augm=False):\n",
        "    x_size, y_size =  input_size# the desired size\n",
        "    y_cur_size, x_cur_size = image.shape # the current shape of the image\n",
        "                                         # x and y are inverted in the input\n",
        "    \n",
        "    max_ratio = max(x_cur_size / x_size, y_cur_size / y_size) # figuring out the maximum ratio\n",
        "                                                              # between original size and desired size\n",
        "                                                              # from both axes\n",
        "    x_cur_size, y_cur_size = (\n",
        "        min(x_size, int(x_cur_size / max_ratio)), \n",
        "        min(y_size, int(y_cur_size / max_ratio)))\n",
        "        # the new size is gonna be the maximum size within both constraints, of width and height\n",
        "    image = Image.fromarray(image, mode='L')\n",
        "    image = transforms.Resize((y_cur_size,x_cur_size))(image)\n",
        "    image = transforms.Pad((int((x_size-x_cur_size)/2),int((y_size - y_cur_size)/2),int((x_size-x_cur_size)/2), int((y_size - y_cur_size)/2)), 0)(image)\n",
        "    return image"
      ],
      "execution_count": 0,
      "outputs": []
    },
    {
      "cell_type": "code",
      "metadata": {
        "scrolled": false,
        "id": "dwxwZkhhuST-",
        "colab_type": "code",
        "outputId": "0c462fd8-9f18-4f21-8923-777d86ed696c",
        "colab": {
          "base_uri": "https://localhost:8080/",
          "height": 427
        }
      },
      "source": [
        "image = 255-cv2.imread(os.getcwd() + \"/data/words/a01/a01-000u/a01-000u-00-00.png\", cv2.IMREAD_GRAYSCALE)\n",
        "f, (axe1, axe2) = plt.subplots(1, 2, gridspec_kw={'width_ratios': [1, 4]}, figsize= (17,10))\n",
        "axe1.set_title('Original Image')\n",
        "axe1.imshow(image, cmap='gray')\n",
        "img = formatImage(image)\n",
        "axe2.set_title('Formatted Image')\n",
        "axe2.imshow(img, cmap='gray')\n"
      ],
      "execution_count": 9,
      "outputs": [
        {
          "output_type": "execute_result",
          "data": {
            "text/plain": [
              "<matplotlib.image.AxesImage at 0x7f9885079588>"
            ]
          },
          "metadata": {
            "tags": []
          },
          "execution_count": 9
        },
        {
          "output_type": "display_data",
          "data": {
            "image/png": "[encoded data removed]",
            "text/plain": [
              "<Figure size 1224x720 with 2 Axes>"
            ]
          },
          "metadata": {
            "tags": []
          }
        }
      ]
    },
    {
      "cell_type": "markdown",
      "metadata": {
        "id": "FPST6XYUuSUH",
        "colab_type": "text"
      },
      "source": [
        "The file structure, as stated earlier, is consistent throughout the whole dataset, easiyng the load up."
      ]
    },
    {
      "cell_type": "code",
      "metadata": {
        "id": "U6YVibVyuSUK",
        "colab_type": "code",
        "colab": {}
      },
      "source": [
        "image_path = os.getcwd() +'/data/words/'\n",
        "ground_truth_path = os.getcwd() + '/data/ascii/words.txt'"
      ],
      "execution_count": 0,
      "outputs": []
    },
    {
      "cell_type": "markdown",
      "metadata": {
        "id": "vAUTbDlQ2_OL",
        "colab_type": "text"
      },
      "source": [
        "The image processing is done during the loading stage, freeing the training time so more experiments can be done. "
      ]
    },
    {
      "cell_type": "code",
      "metadata": {
        "id": "XCO3jfRzuSUR",
        "colab_type": "code",
        "colab": {}
      },
      "source": [
        "# format: a01-000u-00-00 ok 154 1 408 768 27 51 AT A\n",
        "#\n",
        "#     a01-000u-00-00  -> word id for line 00 in form a01-000u\n",
        "#     ok              -> result of word segmentation\n",
        "#                            ok: word was correctly\n",
        "#                            er: segmentation of word can be bad\n",
        "#\n",
        "#     154             -> graylevel to binarize the line containing this word\n",
        "#     1               -> number of components for this word\n",
        "#     408 768 27 51   -> bounding box around this word in x,y,w,h format\n",
        "#     AT              -> the grammatical tag for this word, see the\n",
        "#                        file tagset.txt for an explanation\n",
        "#     A               -> the transcription for this word\n",
        "def LoadData(set, augm=True):\n",
        "    \"Function to load data from the IAM dataset\"\n",
        "    data = []\n",
        "    n_img = 0\n",
        "    with open(ground_truth_path) as gt_file: # for each line in the ground truth file,\n",
        "                                             # whitch contains the trascripts for the words\n",
        "        for cur_img, line in enumerate(gt_file): # enumarate them\n",
        "            if not cur_img in set:\n",
        "                continue\n",
        "            n_img += 1\n",
        "            if n_img % 500 == 0: #log every 500\n",
        "                print('Imagem {} de {} - {}%'.format(n_img, len(set), n_img/len(set)))\n",
        "                \n",
        "            if line[0] != '#': # strip out comments\n",
        "                parts = line.strip().split() # separate the lines in the specified format\n",
        "                \n",
        "                split_info = parts[0].split('-') # separate the word classification\n",
        "                                                 # in pre determined segments\n",
        "                    \n",
        "                full_image_path = image_path + '/' + split_info[0] + '/' + '/'.join(\n",
        "                    ['-'.join(split_info[: 1 + i]) for i in range(1, len(split_info)) if i != 2])\n",
        "                                        # constructing the full image path, whitch is \n",
        "                                        # image_path/form/line/word.png\n",
        "                        \n",
        "                if parts[1] != 'ok': # if the word is invalid\n",
        "                    continue\n",
        "                    \n",
        "                transcript = parts[-1] # the last part of the input is the transcript\n",
        "                \n",
        "                try:\n",
        "                    image = 255.0 - cv2.imread(full_image_path + '.png', 0) # read image\n",
        "                    mean = 0\n",
        "                    std = 0\n",
        "                    image = np.array(formatImage(image))/255\n",
        "                    compose = transforms.Compose([\n",
        "                        transforms.ToTensor(),\n",
        "                        transforms.Lambda(lambda x: x.float()),\n",
        "                    ])\n",
        "                    image = compose(image)\n",
        "\n",
        "                except Exception as exception:\n",
        "                    print(exception) # print errors that occur\n",
        "                    continue\n",
        "                #if augm:\n",
        "                    \n",
        "                data += [(transcript, image)] # Adding image to data\n",
        "                \n",
        "                    \n",
        "    return data"
      ],
      "execution_count": 0,
      "outputs": []
    },
    {
      "cell_type": "markdown",
      "metadata": {
        "id": "tVBDVxsVuSUY",
        "colab_type": "text"
      },
      "source": [
        "To ease iteration and storage, aswell as being able to load other trained networks, the data was encapsulated in a dataset, which loads data from a `pytorch` saved file."
      ]
    },
    {
      "cell_type": "code",
      "metadata": {
        "id": "Vx9DsjPluSUc",
        "colab_type": "code",
        "colab": {}
      },
      "source": [
        "saved_data_path = os.getcwd() + '/data/saved_data/'"
      ],
      "execution_count": 0,
      "outputs": []
    },
    {
      "cell_type": "code",
      "metadata": {
        "id": "Y6JK4xXUuSUk",
        "colab_type": "code",
        "colab": {}
      },
      "source": [
        "class Loader(Dataset):\n",
        "    def __init__(self, set):\n",
        "        self.img_size = (128, 32)\n",
        "        saved_file = saved_data_path + 'model' +str(len(set)) + '.pt'\n",
        "        if (os.path.isfile(saved_file)):\n",
        "            self.data = torch.load(saved_file)\n",
        "        else:\n",
        "            self.data = LoadData(set)\n",
        "            torch.save(self.data, saved_file)\n",
        "\n",
        "    def __getitem__(self, i):\n",
        "        return self.data[i]\n",
        "\n",
        "    def __len__(self):\n",
        "        return len(self.data)"
      ],
      "execution_count": 0,
      "outputs": []
    },
    {
      "cell_type": "markdown",
      "metadata": {
        "id": "fPgW2OpkuSUr",
        "colab_type": "text"
      },
      "source": [
        "## Model\n",
        "For the model, the usual configuration is a convolutional step, followed by a LSTM step, and a linear transformation step to fit the output into the correct classes.\n"
      ]
    },
    {
      "cell_type": "markdown",
      "metadata": {
        "id": "cd-2uHQkXSbT",
        "colab_type": "text"
      },
      "source": [
        "\n",
        "\n",
        "### Convolutional step\n",
        "The first layers of the model configure a feature extracting convolutional network. The design has 17 convolutional layers, each with a following ReLU non-linearizing stage and a batch normalization.  \n",
        "\n",
        "The number of kernels in the model was scaled up, as we progressed through the layers, to compensate for the loss of information in the max pooling steps.\n",
        "\n",
        "The idea behind the convolutional step is to give some kind of 'temporal' information, moving a window through the image and formatting this image according to the steps."
      ]
    },
    {
      "cell_type": "code",
      "metadata": {
        "id": "yZ2GpKKUCkaF",
        "colab_type": "code",
        "colab": {}
      },
      "source": [
        "conv = nn.Sequential(\n",
        "      nn.Conv2d(1, 32, 3, padding=1, bias=True),\n",
        "      nn.BatchNorm2d(32, momentum=.5),\n",
        "      nn.ReLU(),\n",
        "      nn.Conv2d(32, 32, 3, padding=1, bias=True),\n",
        "      nn.BatchNorm2d(32, momentum=.5),\n",
        "      nn.ReLU(),\n",
        "      nn.MaxPool2d(2, stride=2),\n",
        "      nn.Conv2d(32, 64, 3, padding=1, bias=True),\n",
        "      nn.BatchNorm2d(64, momentum=.5),\n",
        "      nn.ReLU(),\n",
        "      nn.Conv2d(64, 64, 3, padding=1, bias=True),\n",
        "      nn.BatchNorm2d(64, momentum=.5),\n",
        "      nn.ReLU(),\n",
        "      nn.Conv2d(64, 64, 3, padding=1, bias=True),\n",
        "      nn.BatchNorm2d(64, momentum=.5),\n",
        "      nn.ReLU(),\n",
        "      nn.Conv2d(64, 64, 3, padding=1, bias=True),\n",
        "      nn.BatchNorm2d(64, momentum=.5),\n",
        "      nn.ReLU(),\n",
        "      nn.MaxPool2d(2, stride=2),\n",
        "      nn.Conv2d(64, 128, 3, padding=1, bias=True),\n",
        "      nn.BatchNorm2d(128, momentum=.5),\n",
        "      nn.ReLU(),\n",
        "      nn.Conv2d(128, 128, 3, padding=1, bias=True),\n",
        "      nn.BatchNorm2d(128, momentum=.5),\n",
        "      nn.ReLU(),    \n",
        "      nn.MaxPool2d(2, stride=2),\n",
        "      nn.Conv2d(128, 256, 3, padding=1, bias=True),\n",
        "      nn.BatchNorm2d(256, momentum=.5),\n",
        "      nn.ReLU(),\n",
        "      nn.Conv2d(256, 256, 3, padding=1, bias=True),\n",
        "      nn.BatchNorm2d(256, momentum=.5),\n",
        "      nn.ReLU(),\n",
        "    )"
      ],
      "execution_count": 0,
      "outputs": []
    },
    {
      "cell_type": "markdown",
      "metadata": {
        "id": "2Qtk_5HZTU5D",
        "colab_type": "text"
      },
      "source": [
        "### LSTM Step\n",
        "The idea behind the LSTM step is to make a time correlation for the inputs from the convolutional layer, relating them to each other as probabilities among space."
      ]
    },
    {
      "cell_type": "code",
      "metadata": {
        "id": "l-Rxa67sTRdp",
        "colab_type": "code",
        "colab": {}
      },
      "source": [
        "lstm = nn.LSTM(256,128,num_layers=1, bidirectional=True)"
      ],
      "execution_count": 0,
      "outputs": []
    },
    {
      "cell_type": "markdown",
      "metadata": {
        "id": "qHb1FiR_U206",
        "colab_type": "text"
      },
      "source": [
        "After the LSTM, we apply a linear transformation so that the output fits the length of our class scope, or character scope. And we apply a Log Softmax activation layer, to translate this transformation to the log probabilities of the current word characters through space."
      ]
    },
    {
      "cell_type": "code",
      "metadata": {
        "id": "RXyklkZAuSU1",
        "colab_type": "code",
        "colab": {}
      },
      "source": [
        "classes = '_0123456789:;?ABCDEFGHIJKLMNOPQRSTUVWXYZabcdefghijklmnopqrstuvwxyz !\"#&\\'()*+,-./'\n",
        "cdict = {c: i for i, c in enumerate(classes)}\n",
        "icdict = {i: c for i, c in enumerate(classes)}"
      ],
      "execution_count": 0,
      "outputs": []
    },
    {
      "cell_type": "code",
      "metadata": {
        "id": "iG5ap_amVsKy",
        "colab_type": "code",
        "colab": {}
      },
      "source": [
        "seq = nn.Sequential(nn.Linear(256, 256), nn.ReLU(), nn.Linear(256,len(classes)))"
      ],
      "execution_count": 0,
      "outputs": []
    },
    {
      "cell_type": "markdown",
      "metadata": {
        "id": "_ZArsOj7XGkb",
        "colab_type": "text"
      },
      "source": [
        "### Full Model\n",
        "The full netowork is placed in this fashion:\n",
        "\n",
        "![model](https://raw.githubusercontent.com/ptcar2009/data/master/nn.png)"
      ]
    },
    {
      "cell_type": "code",
      "metadata": {
        "id": "ssHIpvP-uSVD",
        "colab_type": "code",
        "colab": {}
      },
      "source": [
        "class FullNN(nn.Module):\n",
        "  def __init__(self):\n",
        "    super(FullNN, self).__init__()\n",
        "    self.convolutional_step = conv\n",
        "    self.lstm_step = lstm\n",
        "    self.linear_step = seq\n",
        "  def forward(self,x):\n",
        "    y = x\n",
        "    y = self.convolutional_step(x)\n",
        "    \n",
        "    y = torch.nn.functional.max_pool2d(y, [y.size(2), 1], padding=[0, 0])\n",
        "    y = y.permute(2,3,0,1)[0]\n",
        "    y, (_, _) = self.lstm_step(y)\n",
        "    y = self.linear_step(y)\n",
        "    y = nn.LogSoftmax(dim=-1)(y)\n",
        "    return y\n",
        "  "
      ],
      "execution_count": 0,
      "outputs": []
    },
    {
      "cell_type": "markdown",
      "metadata": {
        "id": "e7DZDJbLYQr6",
        "colab_type": "text"
      },
      "source": [
        "## Training"
      ]
    },
    {
      "cell_type": "markdown",
      "metadata": {
        "id": "vTLRmHbyYvfO",
        "colab_type": "text"
      },
      "source": [
        "\n",
        "### Training and test sets\n",
        "The training was made using part of the full dataset, since using it whole did not yield good experimentation for the hyperparameters of the network."
      ]
    },
    {
      "cell_type": "code",
      "metadata": {
        "id": "YdVZVRF4uSVO",
        "colab_type": "code",
        "colab": {}
      },
      "source": [
        "train_set = np.random.randint(0,100001,size=2000)\n",
        "test_set = np.random.choice([i for i in range(0,100001) if i not in train_set], size=200)\n",
        "\n",
        "\n",
        "train_set = Loader(train_set)\n",
        "test_set = Loader(test_set)"
      ],
      "execution_count": 0,
      "outputs": []
    },
    {
      "cell_type": "markdown",
      "metadata": {
        "id": "24PI15TeYycl",
        "colab_type": "text"
      },
      "source": [
        "The `pytorch` `DataLoader` class was used to encapsulate the training data, and to make it easier to iterate over it. "
      ]
    },
    {
      "cell_type": "code",
      "metadata": {
        "id": "L8_1u4QPuSVW",
        "colab_type": "code",
        "colab": {}
      },
      "source": [
        "train_loader = torch.utils.data.DataLoader(train_set, batch_size=1,shuffle=True,num_workers=8)\n",
        "test_loader = torch.utils.data.DataLoader(test_set, batch_size=1,shuffle=False,num_workers=8)"
      ],
      "execution_count": 0,
      "outputs": []
    },
    {
      "cell_type": "markdown",
      "metadata": {
        "id": "KHNps8Y7eKas",
        "colab_type": "text"
      },
      "source": [
        "### Optimizer\n",
        "The chosen optimizer was the minibatch SGB,, with batch sizes of 16 and a variable learning rate, ranging from $10^{-3}$ to $10^{-5}$, with steps whenever the loss gets to a range where it's values fluctuate without converging. "
      ]
    },
    {
      "cell_type": "code",
      "metadata": {
        "id": "gmdhSPcPuSVK",
        "colab_type": "code",
        "colab": {}
      },
      "source": [
        "fullNN = FullNN().cuda()"
      ],
      "execution_count": 0,
      "outputs": []
    },
    {
      "cell_type": "code",
      "metadata": {
        "id": "Wy3YZu0PuSVc",
        "colab_type": "code",
        "colab": {}
      },
      "source": [
        "optimizer = torch.optim.SGD(fullNN.parameters(),1e-3)\n",
        "iter_size = 16"
      ],
      "execution_count": 0,
      "outputs": []
    },
    {
      "cell_type": "markdown",
      "metadata": {
        "id": "yfJC_FMIfOpo",
        "colab_type": "text"
      },
      "source": [
        "### Loss\n",
        "The loss value is calculated through a method called Connectionalist Temporal Classification (CTC). It connects the probabilities of the characters through space and makes a graph from them, resulting in a model for temporal analysis of subjects. \n",
        "\n",
        "![ctc](https://raw.githubusercontent.com/ptcar2009/data/master/ctc.png)"
      ]
    },
    {
      "cell_type": "code",
      "metadata": {
        "id": "msjq_CUQfJOb",
        "colab_type": "code",
        "colab": {}
      },
      "source": [
        "loss = torch.nn.CTCLoss(reduction='sum',blank=cdict['_'], zero_infinity=True)"
      ],
      "execution_count": 0,
      "outputs": []
    },
    {
      "cell_type": "markdown",
      "metadata": {
        "id": "uTSa73z0py1v",
        "colab_type": "text"
      },
      "source": [
        "### Accuracy and prediction\n",
        "Both the accuracy metrics and the prediction method are based of [this](https://github.com/githubharald/CTCDecoder/blob/master/src/BeamSearch.py)  repository.  The method is based on beam search CTC decoding, whitch takes an optimized aproach to decoding CTC information."
      ]
    },
    {
      "cell_type": "code",
      "metadata": {
        "id": "XrS_mYHTgd94",
        "colab_type": "code",
        "colab": {}
      },
      "source": [
        "#@title  { display-mode: \"code\" }\n",
        "from __future__ import division\n",
        "from __future__ import print_function\n",
        "class BeamEntry:\n",
        "\t\"information about one single beam at specific time-step\"\n",
        "\tdef __init__(self):\n",
        "\t\tself.prTotal = 0 # blank and non-blank\n",
        "\t\tself.prNonBlank = 0 # non-blank\n",
        "\t\tself.prBlank = 0 # blank\n",
        "\t\tself.prText = 1 # LM score\n",
        "\t\tself.lmApplied = False # flag if LM was already applied to this beam\n",
        "\t\tself.labeling = () # beam-labeling\n",
        "\n",
        "\n",
        "class BeamState:\n",
        "\t\"information about the beams at specific time-step\"\n",
        "\tdef __init__(self):\n",
        "\t\tself.entries = {}\n",
        "\n",
        "\tdef norm(self):\n",
        "\t\t\"length-normalise LM score\"\n",
        "\t\tfor (k, _) in self.entries.items():\n",
        "\t\t\tlabelingLen = len(self.entries[k].labeling)\n",
        "\t\t\tself.entries[k].prText = self.entries[k].prText ** (1.0 / (labelingLen if labelingLen else 1.0))\n",
        "\n",
        "\tdef sort(self):\n",
        "\t\t\"return beam-labelings, sorted by probability\"\n",
        "\t\tbeams = [v for (_, v) in self.entries.items()]\n",
        "\t\tsortedBeams = sorted(beams, reverse=True, key=lambda x: x.prTotal*x.prText)\n",
        "\t\treturn [x.labeling for x in sortedBeams]\n",
        "\n",
        "\n",
        "def applyLM(parentBeam, childBeam, classes, lm):\n",
        "\t\"calculate LM score of child beam by taking score from parent beam and bigram probability of last two chars\"\n",
        "\tif lm and not childBeam.lmApplied:\n",
        "\t\tc1 = classes[parentBeam.labeling[-1] if parentBeam.labeling else classes.index(' ')] # first char\n",
        "\t\tc2 = classes[childBeam.labeling[-1]] # second char\n",
        "\t\tlmFactor = 0.01 # influence of language model\n",
        "\t\tbigramProb = lm.getCharBigram(c1, c2) ** lmFactor # probability of seeing first and second char next to each other\n",
        "\t\tchildBeam.prText = parentBeam.prText * bigramProb # probability of char sequence\n",
        "\t\tchildBeam.lmApplied = True # only apply LM once per beam entry\n",
        "\n",
        "\n",
        "def addBeam(beamState, labeling):\n",
        "\t\"add beam if it does not yet exist\"\n",
        "\tif labeling not in beamState.entries:\n",
        "\t\tbeamState.entries[labeling] = BeamEntry()\n",
        "\n",
        "\n",
        "def ctcBeamSearch(mat, classes, lm, beamWidth=25):\n",
        "\t\"beam search as described by the paper of Hwang et al. and the paper of Graves et al.\"\n",
        "\n",
        "\tblankIdx = 0\n",
        "\tmaxT, maxC = mat.shape\n",
        "\n",
        "\t# initialise beam state\n",
        "\tlast = BeamState()\n",
        "\tlabeling = ()\n",
        "\tlast.entries[labeling] = BeamEntry()\n",
        "\tlast.entries[labeling].prBlank = 1\n",
        "\tlast.entries[labeling].prTotal = 1\n",
        "\n",
        "\t# go over all time-steps\n",
        "\tfor t in range(maxT):\n",
        "\t\tcurr = BeamState()\n",
        "\n",
        "\t\t# get beam-labelings of best beams\n",
        "\t\tbestLabelings = last.sort()[0:beamWidth]\n",
        "\n",
        "\t\t# go over best beams\n",
        "\t\tfor labeling in bestLabelings:\n",
        "\n",
        "\t\t\t# probability of paths ending with a non-blank\n",
        "\t\t\tprNonBlank = 0\n",
        "\t\t\t# in case of non-empty beam\n",
        "\t\t\tif labeling:\n",
        "\t\t\t\t# probability of paths with repeated last char at the end\n",
        "\t\t\t\tprNonBlank = last.entries[labeling].prNonBlank * mat[t, labeling[-1]]\n",
        "\n",
        "\t\t\t# probability of paths ending with a blank\n",
        "\t\t\tprBlank = (last.entries[labeling].prTotal) * mat[t, blankIdx]\n",
        "\n",
        "\t\t\t# add beam at current time-step if needed\n",
        "\t\t\taddBeam(curr, labeling)\n",
        "\n",
        "\t\t\t# fill in data\n",
        "\t\t\tcurr.entries[labeling].labeling = labeling\n",
        "\t\t\tcurr.entries[labeling].prNonBlank += prNonBlank\n",
        "\t\t\tcurr.entries[labeling].prBlank += prBlank\n",
        "\t\t\tcurr.entries[labeling].prTotal += prBlank + prNonBlank\n",
        "\t\t\tcurr.entries[labeling].prText = last.entries[labeling].prText # beam-labeling not changed, therefore also LM score unchanged from\n",
        "\t\t\tcurr.entries[labeling].lmApplied = True # LM already applied at previous time-step for this beam-labeling\n",
        "\n",
        "\t\t\t# extend current beam-labeling\n",
        "\t\t\tfor c in range(1, maxC):\n",
        "\t\t\t\t# add new char to current beam-labeling\n",
        "\t\t\t\tnewLabeling = labeling + (c,)\n",
        "\n",
        "\t\t\t\t# if new labeling contains duplicate char at the end, only consider paths ending with a blank\n",
        "\t\t\t\tif labeling and labeling[-1] == c:\n",
        "\t\t\t\t\tprNonBlank = mat[t, c] * last.entries[labeling].prBlank\n",
        "\t\t\t\telse:\n",
        "\t\t\t\t\tprNonBlank = mat[t, c] * last.entries[labeling].prTotal\n",
        "\n",
        "\t\t\t\t# add beam at current time-step if needed\n",
        "\t\t\t\taddBeam(curr, newLabeling)\n",
        "\t\t\t\t\n",
        "\t\t\t\t# fill in data\n",
        "\t\t\t\tcurr.entries[newLabeling].labeling = newLabeling\n",
        "\t\t\t\tcurr.entries[newLabeling].prNonBlank += prNonBlank\n",
        "\t\t\t\tcurr.entries[newLabeling].prTotal += prNonBlank\n",
        "\t\t\t\t\n",
        "\t\t\t\t# apply LM\n",
        "\t\t\t\tapplyLM(curr.entries[labeling], curr.entries[newLabeling], classes, lm)\n",
        "\n",
        "\t\t# set new beam state\n",
        "\t\tlast = curr\n",
        "\n",
        "\t# normalise LM scores according to beam-labeling-length\n",
        "\tlast.norm()\n",
        "\n",
        "\t # sort by probability\n",
        "\tbestLabeling = last.sort()[0] # get most probable labeling\n",
        "\n",
        "\t# map labels to chars\n",
        "\tres = ''\n",
        "\tfor l in bestLabeling:\n",
        "\t\tres += classes[l]\n",
        "\n",
        "\treturn res\n"
      ],
      "execution_count": 0,
      "outputs": []
    },
    {
      "cell_type": "markdown",
      "metadata": {
        "id": "rek36dclraHd",
        "colab_type": "text"
      },
      "source": [
        "## Code\n",
        "Both the train and the test code are pretty straight forward, just executing the network, backwards propagating and testing for loss and accuracy."
      ]
    },
    {
      "cell_type": "markdown",
      "metadata": {
        "id": "9SV_yyBlrnMI",
        "colab_type": "text"
      },
      "source": [
        "### Train Code\n",
        "The CTC loss value is ebebbed in `pytorch.nn`'s set of loss functions, so the propagation and optimization is straightforward. To implement the batches, the optimizer does steps every set number of iterations. "
      ]
    },
    {
      "cell_type": "code",
      "metadata": {
        "id": "JbDKkqrBoVLN",
        "colab_type": "code",
        "colab": {}
      },
      "source": [
        "def train(epoch):\n",
        "    fullNN.train() # setting the network to train mode\n",
        "  \n",
        "    optimizer.zero_grad() # starting up the gradients\n",
        "\n",
        "    closs = [] # current iteration's loss\n",
        "    fullLss = [] # medium full loss\n",
        "    for iter_idx, (transcr, img) in enumerate(train_loader):\n",
        "        output = fullNN(img.cuda()) # getting the network's output \n",
        "        \n",
        "        act_lens = torch.tensor(img.size(0)*[output.size(0)]).cuda() # getting the lengths for each time step\n",
        "        labels = torch.tensor(\n",
        "            [[cdict[c] for c in t]for t in transcr]).cuda() # translating the word to integers\n",
        "        label_lens = torch.tensor([len(t) for t in transcr]).cuda() # getting the target lengths\n",
        "        \n",
        "        \n",
        "        loss_val = loss(output, labels, act_lens, label_lens.int()) # calculating the loss\n",
        "        closs += [loss_val.data] # storing current loss\n",
        "        fullLss += [loss_val.data] # storing full loss\n",
        "\n",
        "        loss_val.backward() # backpropagating\n",
        "\n",
        "        if iter_idx % iter_size == iter_size - 1:\n",
        "            optimizer.step() # optimizer step, every batch\n",
        "            optimizer.zero_grad()\n",
        "            print('\\rLoss: {} Iter: {} Epoch: {} Progress: {}%'.format( # log\n",
        "                (sum(closs)/len(closs)).item(),\n",
        "                iter_idx,\n",
        "                epoch,\n",
        "                iter_idx/len(train_set)*100), \n",
        "                 flush=True, end='')\n",
        "            \n",
        "    print('\\rLoss: {} Epoch: {}'.format(((sum(fullLss)/len(fullLss)).item()), epoch)) # epoch log\n",
        "    return (sum(fullLss)/len(fullLss)).item() # return average loss\n",
        "         "
      ],
      "execution_count": 0,
      "outputs": []
    },
    {
      "cell_type": "markdown",
      "metadata": {
        "id": "Wj40re0hsOVB",
        "colab_type": "text"
      },
      "source": [
        "### Test Code\n",
        "When testing, four accuracy metrics were defined: \n",
        "\n",
        "*   length error, that means the error rate from the predicted length and the actual length.\n",
        "\n",
        "*   Predicted to actual character accuracy, that measures the percentage of characters from the predicted word that are in the actual word\n",
        "\n",
        "*   Actual to predicted accuracy, an analog to the previous error\n",
        "*   Word accuracy, measuring the percentage of words that were identical to the predicted words\n"
      ]
    },
    {
      "cell_type": "code",
      "metadata": {
        "id": "IVBKusrToWtA",
        "colab_type": "code",
        "colab": {}
      },
      "source": [
        "def test(epoch):\n",
        "  fullNN.eval()\n",
        "  length = []\n",
        "  char_in = []\n",
        "  char_out =[]\n",
        "  word = []\n",
        "  tr = ''\n",
        "  ori = ''\n",
        "  maxi = 0\n",
        "  chosen = int(np.random.randint(0, len(test_set)))\n",
        "  \n",
        "  for tst_transcr, tst_img in test_loader: \n",
        "    tst_o = fullNN(tst_img.cuda())\n",
        "    decoded = ctcBeamSearch(tst_o[0].cpu().detach().numpy(), classes[1:], None, 100)\n",
        "    length += [abs(len(decoded) - len(tst_transcr[0])) / (len(tst_transcr[0]))]\n",
        "    hitc = 0\n",
        "    hitco = 0\n",
        "    for c in decoded:\n",
        "      if c in tst_transcr[0]:\n",
        "        hitc += 1\n",
        "    for c in tst_transcr[0]:\n",
        "      if c in decoded:\n",
        "        hitco += 1\n",
        "    char_in += [hitc / max(1, len(decoded))]    \n",
        "    char_out += [hitco / len(tst_transcr[0])]\n",
        "    \n",
        "    if tst_transcr[0] == decoded:\n",
        "      word += [1]\n",
        "    else:\n",
        "      word += [0]\n",
        "    if chosen == maxi:\n",
        "      ori = tst_transcr[0]\n",
        "      tr = decoded\n",
        "    maxi += 1\n",
        "  len_acc = sum(length)/len(length)\n",
        "  char_in_acc = sum(char_in)/len(char_in)\n",
        "  char_out_acc = sum(char_out)/len(char_out)\n",
        "  word_acc = sum(word)/len(word)\n",
        "  print('length err: {}'.format(sum(length)/len(length)))\n",
        "  print('char actual-predicted acc: {}'.format(sum(char_in)/len(char_in)))\n",
        "  print('char predicted-actual acc: {}'.format(sum(char_out)/len(char_out)))\n",
        "  print('word acc {}'.format(sum(word)/len(word)))\n",
        "  print('original: {} decoded: {}'.format(ori, tr))\n",
        "  return len_acc, char_in_acc, char_out_acc, word_acc"
      ],
      "execution_count": 0,
      "outputs": []
    },
    {
      "cell_type": "code",
      "metadata": {
        "id": "jLgXYoJQuSVt",
        "colab_type": "code",
        "colab": {
          "base_uri": "https://localhost:8080/",
          "height": 628
        },
        "outputId": "eb6e4681-7109-4ad4-87eb-354c827bf8dd"
      },
      "source": [
        "cnt = 0\n",
        "n_epochs = 200\n",
        "for epoch in range(1, n_epoch + 1):\n",
        "  losses += [train(epoch)]\n",
        "  history += [test(epoch)]\n",
        "  if losses[-1] < 3:\n",
        "    optimizer = torch.optim.SGD(fullNN.parameters(),1e-4)\n",
        "  if losses[-1] < 0.3:  \n",
        "    optimizer = torch.optim.SGD(fullNN.parameters(),1e-5)\n",
        "  \n",
        "  \n"
      ],
      "execution_count": 446,
      "outputs": [
        {
          "output_type": "stream",
          "text": [
            "Loss: 0.6273150444030762 Epoch: 1\n",
            "length err: 0.9941176470588236\n",
            "char actual-predicted acc: 0.0\n",
            "char predicted-actual acc: 0.0\n",
            "word acc 0.0\n",
            "original: ever decoded: \n",
            "Loss: 0.6063145399093628 Epoch: 2\n",
            "length err: 0.9795187165775402\n",
            "char actual-predicted acc: 0.01764705882352941\n",
            "char predicted-actual acc: 0.0030837789661319077\n",
            "word acc 0.0\n",
            "original: think decoded: \n",
            "Loss: 0.594447135925293 Iter: 1487 Epoch: 3 Progress: 88.67024448419797%"
          ],
          "name": "stdout"
        },
        {
          "output_type": "error",
          "ename": "KeyboardInterrupt",
          "evalue": "ignored",
          "traceback": [
            "\u001b[0;31m---------------------------------------------------------------------------\u001b[0m",
            "\u001b[0;31mKeyboardInterrupt\u001b[0m                         Traceback (most recent call last)",
            "\u001b[0;32m<ipython-input-446-df80e7525e1f>\u001b[0m in \u001b[0;36m<module>\u001b[0;34m()\u001b[0m\n\u001b[1;32m      2\u001b[0m \u001b[0mn_epochs\u001b[0m \u001b[0;34m=\u001b[0m \u001b[0;36m200\u001b[0m\u001b[0;34m\u001b[0m\u001b[0;34m\u001b[0m\u001b[0m\n\u001b[1;32m      3\u001b[0m \u001b[0;32mfor\u001b[0m \u001b[0mepoch\u001b[0m \u001b[0;32min\u001b[0m \u001b[0mrange\u001b[0m\u001b[0;34m(\u001b[0m\u001b[0;36m1\u001b[0m\u001b[0;34m,\u001b[0m \u001b[0mn_epoch\u001b[0m \u001b[0;34m+\u001b[0m \u001b[0;36m1\u001b[0m\u001b[0;34m)\u001b[0m\u001b[0;34m:\u001b[0m\u001b[0;34m\u001b[0m\u001b[0;34m\u001b[0m\u001b[0m\n\u001b[0;32m----> 4\u001b[0;31m   \u001b[0mlosses\u001b[0m \u001b[0;34m+=\u001b[0m \u001b[0;34m[\u001b[0m\u001b[0mtrain\u001b[0m\u001b[0;34m(\u001b[0m\u001b[0mepoch\u001b[0m\u001b[0;34m)\u001b[0m\u001b[0;34m]\u001b[0m\u001b[0;34m\u001b[0m\u001b[0;34m\u001b[0m\u001b[0m\n\u001b[0m\u001b[1;32m      5\u001b[0m   \u001b[0mhistory\u001b[0m \u001b[0;34m+=\u001b[0m \u001b[0;34m[\u001b[0m\u001b[0mtest\u001b[0m\u001b[0;34m(\u001b[0m\u001b[0mepoch\u001b[0m\u001b[0;34m)\u001b[0m\u001b[0;34m]\u001b[0m\u001b[0;34m\u001b[0m\u001b[0;34m\u001b[0m\u001b[0m\n\u001b[1;32m      6\u001b[0m   \u001b[0;32mif\u001b[0m \u001b[0mlosses\u001b[0m\u001b[0;34m[\u001b[0m\u001b[0;34m-\u001b[0m\u001b[0;36m1\u001b[0m\u001b[0;34m]\u001b[0m \u001b[0;34m<\u001b[0m \u001b[0;36m3\u001b[0m\u001b[0;34m:\u001b[0m\u001b[0;34m\u001b[0m\u001b[0;34m\u001b[0m\u001b[0m\n",
            "\u001b[0;32m<ipython-input-421-df977ddaee01>\u001b[0m in \u001b[0;36mtrain\u001b[0;34m(epoch)\u001b[0m\n\u001b[1;32m      7\u001b[0m     \u001b[0mfullLss\u001b[0m \u001b[0;34m=\u001b[0m \u001b[0;34m[\u001b[0m\u001b[0;34m]\u001b[0m \u001b[0;31m# medium full loss\u001b[0m\u001b[0;34m\u001b[0m\u001b[0;34m\u001b[0m\u001b[0m\n\u001b[1;32m      8\u001b[0m     \u001b[0;32mfor\u001b[0m \u001b[0miter_idx\u001b[0m\u001b[0;34m,\u001b[0m \u001b[0;34m(\u001b[0m\u001b[0mtranscr\u001b[0m\u001b[0;34m,\u001b[0m \u001b[0mimg\u001b[0m\u001b[0;34m)\u001b[0m \u001b[0;32min\u001b[0m \u001b[0menumerate\u001b[0m\u001b[0;34m(\u001b[0m\u001b[0mtrain_loader\u001b[0m\u001b[0;34m)\u001b[0m\u001b[0;34m:\u001b[0m\u001b[0;34m\u001b[0m\u001b[0;34m\u001b[0m\u001b[0m\n\u001b[0;32m----> 9\u001b[0;31m         \u001b[0moutput\u001b[0m \u001b[0;34m=\u001b[0m \u001b[0mfullNN\u001b[0m\u001b[0;34m(\u001b[0m\u001b[0mimg\u001b[0m\u001b[0;34m.\u001b[0m\u001b[0mcuda\u001b[0m\u001b[0;34m(\u001b[0m\u001b[0;34m)\u001b[0m\u001b[0;34m)\u001b[0m \u001b[0;31m# getting the network's output\u001b[0m\u001b[0;34m\u001b[0m\u001b[0;34m\u001b[0m\u001b[0m\n\u001b[0m\u001b[1;32m     10\u001b[0m \u001b[0;34m\u001b[0m\u001b[0m\n\u001b[1;32m     11\u001b[0m         \u001b[0mact_lens\u001b[0m \u001b[0;34m=\u001b[0m \u001b[0mtorch\u001b[0m\u001b[0;34m.\u001b[0m\u001b[0mtensor\u001b[0m\u001b[0;34m(\u001b[0m\u001b[0mimg\u001b[0m\u001b[0;34m.\u001b[0m\u001b[0msize\u001b[0m\u001b[0;34m(\u001b[0m\u001b[0;36m0\u001b[0m\u001b[0;34m)\u001b[0m\u001b[0;34m*\u001b[0m\u001b[0;34m[\u001b[0m\u001b[0moutput\u001b[0m\u001b[0;34m.\u001b[0m\u001b[0msize\u001b[0m\u001b[0;34m(\u001b[0m\u001b[0;36m0\u001b[0m\u001b[0;34m)\u001b[0m\u001b[0;34m]\u001b[0m\u001b[0;34m)\u001b[0m\u001b[0;34m.\u001b[0m\u001b[0mcuda\u001b[0m\u001b[0;34m(\u001b[0m\u001b[0;34m)\u001b[0m \u001b[0;31m# getting the lengths for each time step\u001b[0m\u001b[0;34m\u001b[0m\u001b[0;34m\u001b[0m\u001b[0m\n",
            "\u001b[0;32m/usr/local/lib/python3.6/dist-packages/torch/nn/modules/module.py\u001b[0m in \u001b[0;36m__call__\u001b[0;34m(self, *input, **kwargs)\u001b[0m\n\u001b[1;32m    491\u001b[0m             \u001b[0mresult\u001b[0m \u001b[0;34m=\u001b[0m \u001b[0mself\u001b[0m\u001b[0;34m.\u001b[0m\u001b[0m_slow_forward\u001b[0m\u001b[0;34m(\u001b[0m\u001b[0;34m*\u001b[0m\u001b[0minput\u001b[0m\u001b[0;34m,\u001b[0m \u001b[0;34m**\u001b[0m\u001b[0mkwargs\u001b[0m\u001b[0;34m)\u001b[0m\u001b[0;34m\u001b[0m\u001b[0;34m\u001b[0m\u001b[0m\n\u001b[1;32m    492\u001b[0m         \u001b[0;32melse\u001b[0m\u001b[0;34m:\u001b[0m\u001b[0;34m\u001b[0m\u001b[0;34m\u001b[0m\u001b[0m\n\u001b[0;32m--> 493\u001b[0;31m             \u001b[0mresult\u001b[0m \u001b[0;34m=\u001b[0m \u001b[0mself\u001b[0m\u001b[0;34m.\u001b[0m\u001b[0mforward\u001b[0m\u001b[0;34m(\u001b[0m\u001b[0;34m*\u001b[0m\u001b[0minput\u001b[0m\u001b[0;34m,\u001b[0m \u001b[0;34m**\u001b[0m\u001b[0mkwargs\u001b[0m\u001b[0;34m)\u001b[0m\u001b[0;34m\u001b[0m\u001b[0;34m\u001b[0m\u001b[0m\n\u001b[0m\u001b[1;32m    494\u001b[0m         \u001b[0;32mfor\u001b[0m \u001b[0mhook\u001b[0m \u001b[0;32min\u001b[0m \u001b[0mself\u001b[0m\u001b[0;34m.\u001b[0m\u001b[0m_forward_hooks\u001b[0m\u001b[0;34m.\u001b[0m\u001b[0mvalues\u001b[0m\u001b[0;34m(\u001b[0m\u001b[0;34m)\u001b[0m\u001b[0;34m:\u001b[0m\u001b[0;34m\u001b[0m\u001b[0;34m\u001b[0m\u001b[0m\n\u001b[1;32m    495\u001b[0m             \u001b[0mhook_result\u001b[0m \u001b[0;34m=\u001b[0m \u001b[0mhook\u001b[0m\u001b[0;34m(\u001b[0m\u001b[0mself\u001b[0m\u001b[0;34m,\u001b[0m \u001b[0minput\u001b[0m\u001b[0;34m,\u001b[0m \u001b[0mresult\u001b[0m\u001b[0;34m)\u001b[0m\u001b[0;34m\u001b[0m\u001b[0;34m\u001b[0m\u001b[0m\n",
            "\u001b[0;32m<ipython-input-414-de4d1642a893>\u001b[0m in \u001b[0;36mforward\u001b[0;34m(self, x)\u001b[0m\n\u001b[1;32m      7\u001b[0m   \u001b[0;32mdef\u001b[0m \u001b[0mforward\u001b[0m\u001b[0;34m(\u001b[0m\u001b[0mself\u001b[0m\u001b[0;34m,\u001b[0m\u001b[0mx\u001b[0m\u001b[0;34m)\u001b[0m\u001b[0;34m:\u001b[0m\u001b[0;34m\u001b[0m\u001b[0;34m\u001b[0m\u001b[0m\n\u001b[1;32m      8\u001b[0m     \u001b[0my\u001b[0m \u001b[0;34m=\u001b[0m \u001b[0mx\u001b[0m\u001b[0;34m\u001b[0m\u001b[0;34m\u001b[0m\u001b[0m\n\u001b[0;32m----> 9\u001b[0;31m     \u001b[0my\u001b[0m \u001b[0;34m=\u001b[0m \u001b[0mself\u001b[0m\u001b[0;34m.\u001b[0m\u001b[0mconvolutional_step\u001b[0m\u001b[0;34m(\u001b[0m\u001b[0mx\u001b[0m\u001b[0;34m)\u001b[0m\u001b[0;34m\u001b[0m\u001b[0;34m\u001b[0m\u001b[0m\n\u001b[0m\u001b[1;32m     10\u001b[0m \u001b[0;34m\u001b[0m\u001b[0m\n\u001b[1;32m     11\u001b[0m     \u001b[0my\u001b[0m \u001b[0;34m=\u001b[0m \u001b[0mtorch\u001b[0m\u001b[0;34m.\u001b[0m\u001b[0mnn\u001b[0m\u001b[0;34m.\u001b[0m\u001b[0mfunctional\u001b[0m\u001b[0;34m.\u001b[0m\u001b[0mmax_pool2d\u001b[0m\u001b[0;34m(\u001b[0m\u001b[0my\u001b[0m\u001b[0;34m,\u001b[0m \u001b[0;34m[\u001b[0m\u001b[0my\u001b[0m\u001b[0;34m.\u001b[0m\u001b[0msize\u001b[0m\u001b[0;34m(\u001b[0m\u001b[0;36m2\u001b[0m\u001b[0;34m)\u001b[0m\u001b[0;34m,\u001b[0m \u001b[0;36m1\u001b[0m\u001b[0;34m]\u001b[0m\u001b[0;34m,\u001b[0m \u001b[0mpadding\u001b[0m\u001b[0;34m=\u001b[0m\u001b[0;34m[\u001b[0m\u001b[0;36m0\u001b[0m\u001b[0;34m,\u001b[0m \u001b[0;36m0\u001b[0m\u001b[0;34m]\u001b[0m\u001b[0;34m)\u001b[0m\u001b[0;34m\u001b[0m\u001b[0;34m\u001b[0m\u001b[0m\n",
            "\u001b[0;32m/usr/local/lib/python3.6/dist-packages/torch/nn/modules/module.py\u001b[0m in \u001b[0;36m__call__\u001b[0;34m(self, *input, **kwargs)\u001b[0m\n\u001b[1;32m    491\u001b[0m             \u001b[0mresult\u001b[0m \u001b[0;34m=\u001b[0m \u001b[0mself\u001b[0m\u001b[0;34m.\u001b[0m\u001b[0m_slow_forward\u001b[0m\u001b[0;34m(\u001b[0m\u001b[0;34m*\u001b[0m\u001b[0minput\u001b[0m\u001b[0;34m,\u001b[0m \u001b[0;34m**\u001b[0m\u001b[0mkwargs\u001b[0m\u001b[0;34m)\u001b[0m\u001b[0;34m\u001b[0m\u001b[0;34m\u001b[0m\u001b[0m\n\u001b[1;32m    492\u001b[0m         \u001b[0;32melse\u001b[0m\u001b[0;34m:\u001b[0m\u001b[0;34m\u001b[0m\u001b[0;34m\u001b[0m\u001b[0m\n\u001b[0;32m--> 493\u001b[0;31m             \u001b[0mresult\u001b[0m \u001b[0;34m=\u001b[0m \u001b[0mself\u001b[0m\u001b[0;34m.\u001b[0m\u001b[0mforward\u001b[0m\u001b[0;34m(\u001b[0m\u001b[0;34m*\u001b[0m\u001b[0minput\u001b[0m\u001b[0;34m,\u001b[0m \u001b[0;34m**\u001b[0m\u001b[0mkwargs\u001b[0m\u001b[0;34m)\u001b[0m\u001b[0;34m\u001b[0m\u001b[0;34m\u001b[0m\u001b[0m\n\u001b[0m\u001b[1;32m    494\u001b[0m         \u001b[0;32mfor\u001b[0m \u001b[0mhook\u001b[0m \u001b[0;32min\u001b[0m \u001b[0mself\u001b[0m\u001b[0;34m.\u001b[0m\u001b[0m_forward_hooks\u001b[0m\u001b[0;34m.\u001b[0m\u001b[0mvalues\u001b[0m\u001b[0;34m(\u001b[0m\u001b[0;34m)\u001b[0m\u001b[0;34m:\u001b[0m\u001b[0;34m\u001b[0m\u001b[0;34m\u001b[0m\u001b[0m\n\u001b[1;32m    495\u001b[0m             \u001b[0mhook_result\u001b[0m \u001b[0;34m=\u001b[0m \u001b[0mhook\u001b[0m\u001b[0;34m(\u001b[0m\u001b[0mself\u001b[0m\u001b[0;34m,\u001b[0m \u001b[0minput\u001b[0m\u001b[0;34m,\u001b[0m \u001b[0mresult\u001b[0m\u001b[0;34m)\u001b[0m\u001b[0;34m\u001b[0m\u001b[0;34m\u001b[0m\u001b[0m\n",
            "\u001b[0;32m/usr/local/lib/python3.6/dist-packages/torch/nn/modules/container.py\u001b[0m in \u001b[0;36mforward\u001b[0;34m(self, input)\u001b[0m\n\u001b[1;32m     90\u001b[0m     \u001b[0;32mdef\u001b[0m \u001b[0mforward\u001b[0m\u001b[0;34m(\u001b[0m\u001b[0mself\u001b[0m\u001b[0;34m,\u001b[0m \u001b[0minput\u001b[0m\u001b[0;34m)\u001b[0m\u001b[0;34m:\u001b[0m\u001b[0;34m\u001b[0m\u001b[0;34m\u001b[0m\u001b[0m\n\u001b[1;32m     91\u001b[0m         \u001b[0;32mfor\u001b[0m \u001b[0mmodule\u001b[0m \u001b[0;32min\u001b[0m \u001b[0mself\u001b[0m\u001b[0;34m.\u001b[0m\u001b[0m_modules\u001b[0m\u001b[0;34m.\u001b[0m\u001b[0mvalues\u001b[0m\u001b[0;34m(\u001b[0m\u001b[0;34m)\u001b[0m\u001b[0;34m:\u001b[0m\u001b[0;34m\u001b[0m\u001b[0;34m\u001b[0m\u001b[0m\n\u001b[0;32m---> 92\u001b[0;31m             \u001b[0minput\u001b[0m \u001b[0;34m=\u001b[0m \u001b[0mmodule\u001b[0m\u001b[0;34m(\u001b[0m\u001b[0minput\u001b[0m\u001b[0;34m)\u001b[0m\u001b[0;34m\u001b[0m\u001b[0;34m\u001b[0m\u001b[0m\n\u001b[0m\u001b[1;32m     93\u001b[0m         \u001b[0;32mreturn\u001b[0m \u001b[0minput\u001b[0m\u001b[0;34m\u001b[0m\u001b[0;34m\u001b[0m\u001b[0m\n\u001b[1;32m     94\u001b[0m \u001b[0;34m\u001b[0m\u001b[0m\n",
            "\u001b[0;32m/usr/local/lib/python3.6/dist-packages/torch/nn/modules/module.py\u001b[0m in \u001b[0;36m__call__\u001b[0;34m(self, *input, **kwargs)\u001b[0m\n\u001b[1;32m    491\u001b[0m             \u001b[0mresult\u001b[0m \u001b[0;34m=\u001b[0m \u001b[0mself\u001b[0m\u001b[0;34m.\u001b[0m\u001b[0m_slow_forward\u001b[0m\u001b[0;34m(\u001b[0m\u001b[0;34m*\u001b[0m\u001b[0minput\u001b[0m\u001b[0;34m,\u001b[0m \u001b[0;34m**\u001b[0m\u001b[0mkwargs\u001b[0m\u001b[0;34m)\u001b[0m\u001b[0;34m\u001b[0m\u001b[0;34m\u001b[0m\u001b[0m\n\u001b[1;32m    492\u001b[0m         \u001b[0;32melse\u001b[0m\u001b[0;34m:\u001b[0m\u001b[0;34m\u001b[0m\u001b[0;34m\u001b[0m\u001b[0m\n\u001b[0;32m--> 493\u001b[0;31m             \u001b[0mresult\u001b[0m \u001b[0;34m=\u001b[0m \u001b[0mself\u001b[0m\u001b[0;34m.\u001b[0m\u001b[0mforward\u001b[0m\u001b[0;34m(\u001b[0m\u001b[0;34m*\u001b[0m\u001b[0minput\u001b[0m\u001b[0;34m,\u001b[0m \u001b[0;34m**\u001b[0m\u001b[0mkwargs\u001b[0m\u001b[0;34m)\u001b[0m\u001b[0;34m\u001b[0m\u001b[0;34m\u001b[0m\u001b[0m\n\u001b[0m\u001b[1;32m    494\u001b[0m         \u001b[0;32mfor\u001b[0m \u001b[0mhook\u001b[0m \u001b[0;32min\u001b[0m \u001b[0mself\u001b[0m\u001b[0;34m.\u001b[0m\u001b[0m_forward_hooks\u001b[0m\u001b[0;34m.\u001b[0m\u001b[0mvalues\u001b[0m\u001b[0;34m(\u001b[0m\u001b[0;34m)\u001b[0m\u001b[0;34m:\u001b[0m\u001b[0;34m\u001b[0m\u001b[0;34m\u001b[0m\u001b[0m\n\u001b[1;32m    495\u001b[0m             \u001b[0mhook_result\u001b[0m \u001b[0;34m=\u001b[0m \u001b[0mhook\u001b[0m\u001b[0;34m(\u001b[0m\u001b[0mself\u001b[0m\u001b[0;34m,\u001b[0m \u001b[0minput\u001b[0m\u001b[0;34m,\u001b[0m \u001b[0mresult\u001b[0m\u001b[0;34m)\u001b[0m\u001b[0;34m\u001b[0m\u001b[0;34m\u001b[0m\u001b[0m\n",
            "\u001b[0;32m/usr/local/lib/python3.6/dist-packages/torch/nn/modules/batchnorm.py\u001b[0m in \u001b[0;36mforward\u001b[0;34m(self, input)\u001b[0m\n\u001b[1;32m     72\u001b[0m             \u001b[0;31m# TODO: if statement only here to tell the jit to skip emitting this when it is None\u001b[0m\u001b[0;34m\u001b[0m\u001b[0;34m\u001b[0m\u001b[0;34m\u001b[0m\u001b[0m\n\u001b[1;32m     73\u001b[0m             \u001b[0;32mif\u001b[0m \u001b[0mself\u001b[0m\u001b[0;34m.\u001b[0m\u001b[0mnum_batches_tracked\u001b[0m \u001b[0;32mis\u001b[0m \u001b[0;32mnot\u001b[0m \u001b[0;32mNone\u001b[0m\u001b[0;34m:\u001b[0m\u001b[0;34m\u001b[0m\u001b[0;34m\u001b[0m\u001b[0m\n\u001b[0;32m---> 74\u001b[0;31m                 \u001b[0mself\u001b[0m\u001b[0;34m.\u001b[0m\u001b[0mnum_batches_tracked\u001b[0m \u001b[0;34m+=\u001b[0m \u001b[0;36m1\u001b[0m\u001b[0;34m\u001b[0m\u001b[0;34m\u001b[0m\u001b[0m\n\u001b[0m\u001b[1;32m     75\u001b[0m                 \u001b[0;32mif\u001b[0m \u001b[0mself\u001b[0m\u001b[0;34m.\u001b[0m\u001b[0mmomentum\u001b[0m \u001b[0;32mis\u001b[0m \u001b[0;32mNone\u001b[0m\u001b[0;34m:\u001b[0m  \u001b[0;31m# use cumulative moving average\u001b[0m\u001b[0;34m\u001b[0m\u001b[0;34m\u001b[0m\u001b[0m\n\u001b[1;32m     76\u001b[0m                     \u001b[0mexponential_average_factor\u001b[0m \u001b[0;34m=\u001b[0m \u001b[0;36m1.0\u001b[0m \u001b[0;34m/\u001b[0m \u001b[0mfloat\u001b[0m\u001b[0;34m(\u001b[0m\u001b[0mself\u001b[0m\u001b[0;34m.\u001b[0m\u001b[0mnum_batches_tracked\u001b[0m\u001b[0;34m)\u001b[0m\u001b[0;34m\u001b[0m\u001b[0;34m\u001b[0m\u001b[0m\n",
            "\u001b[0;31mKeyboardInterrupt\u001b[0m: "
          ]
        }
      ]
    },
    {
      "cell_type": "markdown",
      "metadata": {
        "id": "fEARL-aBuV9c",
        "colab_type": "text"
      },
      "source": [
        "## Analysis\n",
        "The project was very challenging, ranging from building the network to optimizing the training strategy and hyperparameters. Even though the network's final results were'nt great, the learning proccess was imense, and with more computing power \n",
        "the training could be improved and the network could get deeper, improving the accuracy throughout.\n",
        "\n",
        "The loss function in the train set decreased in all epochs, getting close to zero."
      ]
    },
    {
      "cell_type": "code",
      "metadata": {
        "id": "NNbYUm5-uSV8",
        "colab_type": "code",
        "colab": {
          "base_uri": "https://localhost:8080/",
          "height": 283
        },
        "outputId": "fdf1f666-5535-41d8-fee7-3b6b5d2cc139"
      },
      "source": [
        "plt.plot([i for i in range(len(losses))], losses)\n",
        "plt.ylabel('Loss')\n",
        "plt.xlabel('Epoch')\n",
        "plt.show()"
      ],
      "execution_count": 424,
      "outputs": [
        {
          "output_type": "display_data",
          "data": {
            "image/png": "[encoded data removed]",
            "text/plain": [
              "<Figure size 432x288 with 1 Axes>"
            ]
          },
          "metadata": {
            "tags": []
          }
        }
      ]
    },
    {
      "cell_type": "markdown",
      "metadata": {
        "id": "eAhvGDEOx3WO",
        "colab_type": "text"
      },
      "source": [
        "The accuracy for the model was chatotic and uninformative, actually showing a downward pattern over time. The decoding is probably twisted somehow, but there was no time to figure out a better aproach."
      ]
    },
    {
      "cell_type": "code",
      "metadata": {
        "id": "4WW8T32PysK4",
        "colab_type": "code",
        "colab": {}
      },
      "source": [
        "leng,ap, pa, w =  map(list, zip(*history))"
      ],
      "execution_count": 0,
      "outputs": []
    },
    {
      "cell_type": "code",
      "metadata": {
        "id": "yVJ9dxuvySN2",
        "colab_type": "code",
        "colab": {
          "base_uri": "https://localhost:8080/",
          "height": 283
        },
        "outputId": "88e012dc-2982-4b9a-9397-0438a1b8df76"
      },
      "source": [
        "plt.plot([i for i in range(len(leng))], leng)\n",
        "plt.ylabel('Length accuracy')\n",
        "plt.xlabel('Epoch')\n",
        "plt.show()"
      ],
      "execution_count": 426,
      "outputs": [
        {
          "output_type": "display_data",
          "data": {
            "image/png": "[encoded data removed]",
            "text/plain": [
              "<Figure size 432x288 with 1 Axes>"
            ]
          },
          "metadata": {
            "tags": []
          }
        }
      ]
    },
    {
      "cell_type": "code",
      "metadata": {
        "id": "6kjKn9l45Lws",
        "colab_type": "code",
        "colab": {
          "base_uri": "https://localhost:8080/",
          "height": 300
        },
        "outputId": "c2b64fbc-2f15-4254-bd0b-2ab946ab70ee"
      },
      "source": [
        "plt.plot( range(len(ap)),ap, label='Actual - predicted')\n",
        "plt.plot( range(len(ap)),pa, label='Predicted - actual')\n",
        "plt.ylabel('Character accuracy')\n",
        "plt.xlabel('Epoch')"
      ],
      "execution_count": 428,
      "outputs": [
        {
          "output_type": "execute_result",
          "data": {
            "text/plain": [
              "Text(0.5, 0, 'Epoch')"
            ]
          },
          "metadata": {
            "tags": []
          },
          "execution_count": 428
        },
        {
          "output_type": "display_data",
          "data": {
            "image/png": "[encoded data removed]",
            "text/plain": [
              "<Figure size 432x288 with 1 Axes>"
            ]
          },
          "metadata": {
            "tags": []
          }
        }
      ]
    }
  ]
}